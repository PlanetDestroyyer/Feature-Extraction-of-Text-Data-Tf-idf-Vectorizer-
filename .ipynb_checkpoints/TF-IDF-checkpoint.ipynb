{
 "cells": [
  {
   "cell_type": "markdown",
   "id": "5c02b27c",
   "metadata": {},
   "source": [
    "# The mapping from textual data to real valued vectors is called Feature Extraction.\n"
   ]
  },
  {
   "cell_type": "markdown",
   "id": "58cc1264",
   "metadata": {},
   "source": [
    "# Bag Of Words (BOW) : List of unique words in the text corpus\n"
   ]
  },
  {
   "cell_type": "markdown",
   "id": "847cc58a",
   "metadata": {},
   "source": [
    "# Term Frequency - Inverse Document Frequency (TF-IDF): To Count the number of times each word appears in a Document"
   ]
  },
  {
   "cell_type": "markdown",
   "id": "64410b07",
   "metadata": {},
   "source": [
    "Term Frequency (TF) = (Number of times term T appears in a Document)/(Number of terms in the Document)"
   ]
  },
  {
   "cell_type": "markdown",
   "id": "a70371e0",
   "metadata": {},
   "source": [
    "Inverse Document Frequency Frequency(IDF) = Log(N/n), Where , N is the number of Documents and n in the number of Documents a term T has appeared in."
   ]
  },
  {
   "cell_type": "markdown",
   "id": "917940f8",
   "metadata": {},
   "source": [
    "The IDF value of Rare words is high, whereas the IDF of a frequent word is Low"
   ]
  },
  {
   "cell_type": "markdown",
   "id": "0d5db84a",
   "metadata": {},
   "source": [
    "TF_IDF value of term = TF x IDF"
   ]
  },
  {
   "cell_type": "code",
   "execution_count": 3,
   "id": "31db485e",
   "metadata": {},
   "outputs": [],
   "source": [
    "import numpy as np\n",
    "import pandas as pd\n",
    "from sklearn.feature_extraction.text import TfidfVectorizer"
   ]
  },
  {
   "cell_type": "code",
   "execution_count": 4,
   "id": "3938b159",
   "metadata": {},
   "outputs": [],
   "source": [
    " corpus = [\n",
    "    'This is the first document.',\n",
    "    'This document is the second document.',\n",
    "    'And this is the third one.',\n",
    "    'Is this the first document?',\n",
    "]"
   ]
  },
  {
   "cell_type": "code",
   "execution_count": 5,
   "id": "37302567",
   "metadata": {},
   "outputs": [],
   "source": [
    "vectorizer = TfidfVectorizer()"
   ]
  },
  {
   "cell_type": "code",
   "execution_count": 8,
   "id": "ac511292",
   "metadata": {},
   "outputs": [],
   "source": [
    "X = vectorizer.fit_transform(corpus)"
   ]
  },
  {
   "cell_type": "code",
   "execution_count": 12,
   "id": "d5cc682a",
   "metadata": {},
   "outputs": [
    {
     "data": {
      "text/plain": [
       "array(['and', 'document', 'first', 'is', 'one', 'second', 'the', 'third',\n",
       "       'this'], dtype=object)"
      ]
     },
     "execution_count": 12,
     "metadata": {},
     "output_type": "execute_result"
    }
   ],
   "source": [
    "vectorizer.get_feature_names_out()"
   ]
  },
  {
   "cell_type": "code",
   "execution_count": 14,
   "id": "de982c64",
   "metadata": {},
   "outputs": [
    {
     "data": {
      "text/plain": [
       "(4, 9)"
      ]
     },
     "execution_count": 14,
     "metadata": {},
     "output_type": "execute_result"
    }
   ],
   "source": [
    "X.shape"
   ]
  },
  {
   "cell_type": "code",
   "execution_count": null,
   "id": "65e36fbd",
   "metadata": {},
   "outputs": [],
   "source": []
  }
 ],
 "metadata": {
  "kernelspec": {
   "display_name": "Python 3 (ipykernel)",
   "language": "python",
   "name": "python3"
  },
  "language_info": {
   "codemirror_mode": {
    "name": "ipython",
    "version": 3
   },
   "file_extension": ".py",
   "mimetype": "text/x-python",
   "name": "python",
   "nbconvert_exporter": "python",
   "pygments_lexer": "ipython3",
   "version": "3.10.9"
  }
 },
 "nbformat": 4,
 "nbformat_minor": 5
}
